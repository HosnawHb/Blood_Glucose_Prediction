{
  "cells": [
    {
      "cell_type": "markdown",
      "metadata": {
        "id": "view-in-github",
        "colab_type": "text"
      },
      "source": [
        "<a href=\"https://colab.research.google.com/github/HosnawHb/Blood_Glucose_Prediction/blob/main/BGP_6.ipynb\" target=\"_parent\"><img src=\"https://colab.research.google.com/assets/colab-badge.svg\" alt=\"Open In Colab\"/></a>"
      ]
    },
    {
      "cell_type": "code",
      "execution_count": null,
      "metadata": {
        "id": "UrRQXXyquq1E"
      },
      "outputs": [],
      "source": [
        "import numpy as np\n",
        "import tensorflow as tf\n",
        "from tensorflow import keras\n",
        "import pandas as pd\n",
        "from matplotlib import pyplot as plt\n",
        "%matplotlib inline\n",
        "from google.colab import drive\n",
        "from pydrive.auth import GoogleAuth\n",
        "from pydrive.drive import GoogleDrive\n",
        "from google.colab import auth\n",
        "from oauth2client.client import GoogleCredentials\n",
        "from google.colab import drive\n",
        "import requests\n",
        "from sklearn.model_selection import train_test_split\n",
        "from sklearn.preprocessing import MultiLabelBinarizer\n",
        "from keras.layers import Input\n",
        "from keras.layers import SimpleRNN\n",
        "from keras.layers import Dense, Dropout\n",
        "from keras.layers import LSTM, BatchNormalization, Bidirectional,GRU\n",
        "from keras.layers import concatenate\n",
        "from keras import Model\n",
        "from keras.models import Sequential\n",
        "import datetime\n",
        "from keras.callbacks import ModelCheckpoint\n",
        "import csv\n",
        "import pickle\n",
        "from sklearn.preprocessing import MinMaxScaler"
      ]
    },
    {
      "cell_type": "code",
      "execution_count": null,
      "metadata": {
        "colab": {
          "base_uri": "https://localhost:8080/"
        },
        "id": "a-GaJQ2-wVHo",
        "outputId": "7d04e096-8e09-4574-a207-3bb018eaf667"
      },
      "outputs": [
        {
          "output_type": "stream",
          "name": "stdout",
          "text": [
            "Drive already mounted at /content/drive; to attempt to forcibly remount, call drive.mount(\"/content/drive\", force_remount=True).\n"
          ]
        }
      ],
      "source": [
        "drive.mount('/content/drive')"
      ]
    },
    {
      "cell_type": "code",
      "execution_count": null,
      "metadata": {
        "id": "n-syWqbWwe2z"
      },
      "outputs": [],
      "source": [
        "with open(\"/content/drive/MyDrive/dataset/CGM/XPH5\", 'rb') as f:\n",
        "    X = pickle.load(f)"
      ]
    },
    {
      "cell_type": "code",
      "source": [
        "with open(\"/content/drive/MyDrive/dataset/CGM/XPH10\", 'rb') as f:\n",
        "    X10 = pickle.load(f)"
      ],
      "metadata": {
        "id": "Ji58F6Zmb0fs"
      },
      "execution_count": null,
      "outputs": []
    },
    {
      "cell_type": "code",
      "source": [
        "with open(\"/content/drive/MyDrive/dataset/CGM/XPH15\", 'rb') as f:\n",
        "    X15 = pickle.load(f)"
      ],
      "metadata": {
        "id": "_woxz8-Uh3uG"
      },
      "execution_count": null,
      "outputs": []
    },
    {
      "cell_type": "code",
      "execution_count": null,
      "metadata": {
        "id": "eI0GeoopxYHA"
      },
      "outputs": [],
      "source": [
        "with open(\"/content/drive/MyDrive/dataset/CGM/yPH5\", 'rb') as f:\n",
        "    y = pickle.load(f)"
      ]
    },
    {
      "cell_type": "code",
      "source": [
        "with open(\"/content/drive/MyDrive/dataset/CGM/yPH10\", 'rb') as f:\n",
        "    y10 = pickle.load(f)"
      ],
      "metadata": {
        "id": "2AChphNKb4K7"
      },
      "execution_count": null,
      "outputs": []
    },
    {
      "cell_type": "code",
      "source": [
        "with open(\"/content/drive/MyDrive/dataset/CGM/yPH15\", 'rb') as f:\n",
        "    y15 = pickle.load(f)"
      ],
      "metadata": {
        "id": "OP7wPm4-h85o"
      },
      "execution_count": null,
      "outputs": []
    },
    {
      "cell_type": "code",
      "execution_count": null,
      "metadata": {
        "id": "RxUnAVHQxbmK"
      },
      "outputs": [],
      "source": [
        "X = np.reshape(X, (len(X), len(X[1])))\n",
        "y = np.reshape(y, (len(y), 1))"
      ]
    },
    {
      "cell_type": "code",
      "source": [
        "X10 = np.reshape(X10, (len(X10), len(X10[1])))\n",
        "y10 = np.reshape(y10, (len(y10), 1))"
      ],
      "metadata": {
        "id": "pope5zXXb92z"
      },
      "execution_count": null,
      "outputs": []
    },
    {
      "cell_type": "code",
      "source": [
        "X15 = np.reshape(X15, (len(X15), len(X15[1])))\n",
        "y15 = np.reshape(y15, (len(y15), 1))"
      ],
      "metadata": {
        "id": "nCVmU48vh_i4"
      },
      "execution_count": null,
      "outputs": []
    },
    {
      "cell_type": "code",
      "execution_count": null,
      "metadata": {
        "colab": {
          "base_uri": "https://localhost:8080/"
        },
        "id": "CfY63yrzxevB",
        "outputId": "09637a22-5cd7-49fd-c710-bfe542639bd0"
      },
      "outputs": [
        {
          "output_type": "execute_result",
          "data": {
            "text/plain": [
              "array([377., 251., 257., 251., 243.])"
            ]
          },
          "metadata": {},
          "execution_count": 107
        }
      ],
      "source": [
        "X[2]"
      ]
    },
    {
      "cell_type": "code",
      "execution_count": null,
      "metadata": {
        "colab": {
          "base_uri": "https://localhost:8080/",
          "height": 171
        },
        "id": "hSzpVQU_xh6g",
        "outputId": "f8240237-ad7e-4e7c-9bd2-7104f4202dba"
      },
      "outputs": [
        {
          "output_type": "error",
          "ename": "NameError",
          "evalue": "ignored",
          "traceback": [
            "\u001b[0;31m---------------------------------------------------------------------------\u001b[0m",
            "\u001b[0;31mNameError\u001b[0m                                 Traceback (most recent call last)",
            "\u001b[0;32m<ipython-input-1-e6f96141e8d5>\u001b[0m in \u001b[0;36m<cell line: 1>\u001b[0;34m()\u001b[0m\n\u001b[0;32m----> 1\u001b[0;31m \u001b[0mX\u001b[0m\u001b[0;34m.\u001b[0m\u001b[0mshape\u001b[0m\u001b[0;34m,\u001b[0m \u001b[0my\u001b[0m\u001b[0;34m.\u001b[0m\u001b[0mshape\u001b[0m\u001b[0;34m\u001b[0m\u001b[0;34m\u001b[0m\u001b[0m\n\u001b[0m",
            "\u001b[0;31mNameError\u001b[0m: name 'X' is not defined"
          ]
        }
      ],
      "source": [
        "X.shape, y.shape"
      ]
    },
    {
      "cell_type": "code",
      "source": [
        "X10.shape, y10.shape"
      ],
      "metadata": {
        "colab": {
          "base_uri": "https://localhost:8080/"
        },
        "id": "SlpieR_LcEaA",
        "outputId": "7a42b9f5-7947-4002-e7b4-95c478499b82"
      },
      "execution_count": null,
      "outputs": [
        {
          "output_type": "execute_result",
          "data": {
            "text/plain": [
              "((117099, 5), (117099, 1))"
            ]
          },
          "metadata": {},
          "execution_count": 109
        }
      ]
    },
    {
      "cell_type": "code",
      "source": [
        "X15.shape, y15.shape"
      ],
      "metadata": {
        "colab": {
          "base_uri": "https://localhost:8080/"
        },
        "id": "vwjl2sTHiHTP",
        "outputId": "650f8d6d-e7b3-4d4b-fde1-d7e293264291"
      },
      "execution_count": null,
      "outputs": [
        {
          "output_type": "execute_result",
          "data": {
            "text/plain": [
              "((116186, 5), (116186, 1))"
            ]
          },
          "metadata": {},
          "execution_count": 110
        }
      ]
    },
    {
      "cell_type": "code",
      "execution_count": null,
      "metadata": {
        "colab": {
          "base_uri": "https://localhost:8080/",
          "height": 430
        },
        "id": "H87GyO21xj9K",
        "outputId": "b23eff5e-78e4-4cbc-d888-ad381a649417"
      },
      "outputs": [
        {
          "output_type": "display_data",
          "data": {
            "text/plain": [
              "<Figure size 640x480 with 1 Axes>"
            ],
            "image/png": "[encoded data removed]"
          },
          "metadata": {}
        }
      ],
      "source": [
        "plt.plot(X[3])\n",
        "plt.show()"
      ]
    },
    {
      "cell_type": "code",
      "execution_count": null,
      "metadata": {
        "id": "Oo-qVXfNypY4"
      },
      "outputs": [],
      "source": [
        "def report(history,epoch = 20):\n",
        "  #plotting train and validation loss\n",
        "  loss_train = history.history['root_mean_squared_error']\n",
        "  loss_val = history.history['val_root_mean_squared_error']\n",
        "  epochs = range(0,epoch)\n",
        "  plt.plot(epochs,loss_train,'g',label='Training rmse')\n",
        "  plt.plot(epochs,loss_val,'b',label='Validation rmse')\n",
        "  plt.title('Training and Validation rmse')\n",
        "  plt.xlabel('Epochs')\n",
        "  plt.ylabel('RMSE')\n",
        "  plt.legend()\n",
        "  plt.show()\n",
        "  print()"
      ]
    },
    {
      "cell_type": "code",
      "execution_count": null,
      "metadata": {
        "id": "AyxqJmoRxn5_"
      },
      "outputs": [],
      "source": [
        "def CreateModel():\n",
        "  model = Sequential()\n",
        "  model.add(LSTM(16,input_shape=(5,1),return_sequences=True))\n",
        "  #model.add(BatchNormalization())\n",
        "  #model.add(BatchNormalization())\n",
        " # model.add(LSTM(50, return_sequences=True))\n",
        "  #model.add(LSTM(30))\n",
        "  model.add(LSTM(8))\n",
        "  model.add(Dense(16))\n",
        "  model.add(Dense(8))\n",
        "  model.add(Dense(1))\n",
        "  opt = keras.optimizers.Adam(learning_rate=0.001)\n",
        "  #checkpath = \"weight.hdf5\"\n",
        "  #checkpoint = ModelCheckpoint(filepath=checkpath,monitor = 'val_loss',mode = 'min',save_best_only = True)\n",
        "  model.compile(optimizer=opt,loss='mse',metrics=[tf.keras.metrics.RootMeanSquaredError()])\n",
        "  return model"
      ]
    },
    {
      "cell_type": "code",
      "execution_count": null,
      "metadata": {
        "colab": {
          "base_uri": "https://localhost:8080/"
        },
        "id": "kf747agiyEaw",
        "outputId": "6c0152b9-e2c4-43f1-b991-359c7ed24850"
      },
      "outputs": [
        {
          "output_type": "stream",
          "name": "stdout",
          "text": [
            "Model: \"sequential_11\"\n",
            "_________________________________________________________________\n",
            " Layer (type)                Output Shape              Param #   \n",
            "=================================================================\n",
            " lstm_22 (LSTM)              (None, 5, 16)             1152      \n",
            "                                                                 \n",
            " lstm_23 (LSTM)              (None, 8)                 800       \n",
            "                                                                 \n",
            " dense_33 (Dense)            (None, 16)                144       \n",
            "                                                                 \n",
            " dense_34 (Dense)            (None, 8)                 136       \n",
            "                                                                 \n",
            " dense_35 (Dense)            (None, 1)                 9         \n",
            "                                                                 \n",
            "=================================================================\n",
            "Total params: 2,241\n",
            "Trainable params: 2,241\n",
            "Non-trainable params: 0\n",
            "_________________________________________________________________\n"
          ]
        }
      ],
      "source": [
        "model = CreateModel()\n",
        "model.summary()"
      ]
    },
    {
      "cell_type": "code",
      "execution_count": null,
      "metadata": {
        "id": "168ABZn9yNy0"
      },
      "outputs": [],
      "source": [
        "def splitter(X,y,testPercent):\n",
        "  \"\"\"\n",
        "  Split train and test data\n",
        "  \"\"\"\n",
        "  X_train,X_test,y_train,y_test = train_test_split(X, y, test_size= testPercent)\n",
        "  X_train, X_valid, y_train, y_valid = train_test_split(X_train, y_train, test_size=0.2)\n",
        "  return X_train, X_test, y_train, y_test,X_valid, y_valid"
      ]
    },
    {
      "cell_type": "code",
      "execution_count": null,
      "metadata": {
        "id": "x4cGwFyCycgk"
      },
      "outputs": [],
      "source": [
        "X_train,X_test,y_train,y_test,X_valid,y_valid = splitter(X,y,0.1)\n",
        "model = CreateModel()"
      ]
    },
    {
      "cell_type": "code",
      "source": [
        "X_train10,X_test10,y_train10,y_test10,X_valid10,y_valid10 = splitter(X10,y10,0.1)\n",
        "model10 = CreateModel()"
      ],
      "metadata": {
        "id": "-XgHn_jHcKrT"
      },
      "execution_count": null,
      "outputs": []
    },
    {
      "cell_type": "code",
      "source": [
        "X_train15,X_test15,y_train15,y_test15,X_valid15,y_valid15 = splitter(X15,y15,0.1)\n",
        "model15 = CreateModel()"
      ],
      "metadata": {
        "id": "ME_CIHewiMv7"
      },
      "execution_count": null,
      "outputs": []
    },
    {
      "cell_type": "code",
      "execution_count": null,
      "metadata": {
        "id": "KsgYx2t4ygtk"
      },
      "outputs": [],
      "source": [
        "from tensorflow.python.framework.ops import convert_to_tensor_v2_with_dispatch\n",
        "def lstmModel(model,X_train,X_val,y_train,y_val):\n",
        "  histories = []\n",
        "  PatientNum = []\n",
        "  with tf.device('/device:GPU:0'):\n",
        "      #X_train_model, X_val, y_train_model, y_val = train_test_split(X_train, y_train, test_size=0.2)\n",
        "      #X_train_model = np.asarray(X_train_model).astype('float32')\n",
        "      #X_val = np.asarray(X_val).astype('float32')\n",
        "      #y_train_model = np.asarray(y_train_model).astype('float32')\n",
        "      #y_val = np.asarray(y_val).astype('float32')\n",
        "      #checkpath = \"weight.hdf5\"\n",
        "      #checkpoint = ModelCheckpoint(filepath=checkpath,monitor = 'val_loss',mode = 'min',save_best_only = True)\n",
        "      callback = tf.keras.callbacks.EarlyStopping(monitor='val_root_mean_squared_error', patience=5)\n",
        "      history = model.fit(X_train,y_train, validation_data = [X_val, y_val],epochs=25)\n",
        "  return history"
      ]
    },
    {
      "cell_type": "code",
      "execution_count": null,
      "metadata": {
        "colab": {
          "base_uri": "https://localhost:8080/"
        },
        "id": "EjK6aOAmymSv",
        "outputId": "7aa50204-c0f6-4921-f027-b267f1f11db5"
      },
      "outputs": [
        {
          "output_type": "stream",
          "name": "stdout",
          "text": [
            "Epoch 1/25\n",
            "2660/2660 [==============================] - 23s 7ms/step - loss: 2496.3057 - root_mean_squared_error: 49.9630 - val_loss: 86.7449 - val_root_mean_squared_error: 9.3137\n",
            "Epoch 2/25\n",
            "2660/2660 [==============================] - 18s 7ms/step - loss: 45.1906 - root_mean_squared_error: 6.7224 - val_loss: 37.4526 - val_root_mean_squared_error: 6.1199\n",
            "Epoch 3/25\n",
            "2660/2660 [==============================] - 17s 6ms/step - loss: 42.9561 - root_mean_squared_error: 6.5541 - val_loss: 53.2894 - val_root_mean_squared_error: 7.3000\n",
            "Epoch 4/25\n",
            "2660/2660 [==============================] - 18s 7ms/step - loss: 42.6476 - root_mean_squared_error: 6.5305 - val_loss: 37.6373 - val_root_mean_squared_error: 6.1349\n",
            "Epoch 5/25\n",
            "2660/2660 [==============================] - 18s 7ms/step - loss: 42.2546 - root_mean_squared_error: 6.5004 - val_loss: 37.5065 - val_root_mean_squared_error: 6.1243\n",
            "Epoch 6/25\n",
            "2660/2660 [==============================] - 17s 7ms/step - loss: 42.0464 - root_mean_squared_error: 6.4843 - val_loss: 42.1445 - val_root_mean_squared_error: 6.4919\n",
            "Epoch 7/25\n",
            "2660/2660 [==============================] - 18s 7ms/step - loss: 42.1882 - root_mean_squared_error: 6.4952 - val_loss: 37.5751 - val_root_mean_squared_error: 6.1299\n",
            "Epoch 8/25\n",
            "2660/2660 [==============================] - 17s 6ms/step - loss: 41.1538 - root_mean_squared_error: 6.4151 - val_loss: 37.0534 - val_root_mean_squared_error: 6.0871\n",
            "Epoch 9/25\n",
            "2660/2660 [==============================] - 19s 7ms/step - loss: 41.8893 - root_mean_squared_error: 6.4722 - val_loss: 39.6216 - val_root_mean_squared_error: 6.2946\n",
            "Epoch 10/25\n",
            "2660/2660 [==============================] - 18s 7ms/step - loss: 41.5415 - root_mean_squared_error: 6.4453 - val_loss: 39.7687 - val_root_mean_squared_error: 6.3062\n",
            "Epoch 11/25\n",
            "2660/2660 [==============================] - 17s 7ms/step - loss: 41.5498 - root_mean_squared_error: 6.4459 - val_loss: 55.5325 - val_root_mean_squared_error: 7.4520\n",
            "Epoch 12/25\n",
            "2660/2660 [==============================] - 19s 7ms/step - loss: 41.0391 - root_mean_squared_error: 6.4062 - val_loss: 48.1228 - val_root_mean_squared_error: 6.9371\n",
            "Epoch 13/25\n",
            "2660/2660 [==============================] - 19s 7ms/step - loss: 41.2492 - root_mean_squared_error: 6.4226 - val_loss: 41.3161 - val_root_mean_squared_error: 6.4278\n",
            "Epoch 14/25\n",
            "2660/2660 [==============================] - 18s 7ms/step - loss: 41.0990 - root_mean_squared_error: 6.4108 - val_loss: 39.3326 - val_root_mean_squared_error: 6.2716\n",
            "Epoch 15/25\n",
            "2660/2660 [==============================] - 17s 6ms/step - loss: 41.1550 - root_mean_squared_error: 6.4152 - val_loss: 37.8579 - val_root_mean_squared_error: 6.1529\n",
            "Epoch 16/25\n",
            "2660/2660 [==============================] - 18s 7ms/step - loss: 40.7074 - root_mean_squared_error: 6.3802 - val_loss: 40.5261 - val_root_mean_squared_error: 6.3660\n",
            "Epoch 17/25\n",
            "2660/2660 [==============================] - 18s 7ms/step - loss: 40.6802 - root_mean_squared_error: 6.3781 - val_loss: 39.6345 - val_root_mean_squared_error: 6.2956\n",
            "Epoch 18/25\n",
            "2660/2660 [==============================] - 19s 7ms/step - loss: 40.4215 - root_mean_squared_error: 6.3578 - val_loss: 52.8769 - val_root_mean_squared_error: 7.2716\n",
            "Epoch 19/25\n",
            "2660/2660 [==============================] - 17s 7ms/step - loss: 39.9644 - root_mean_squared_error: 6.3217 - val_loss: 38.1680 - val_root_mean_squared_error: 6.1780\n",
            "Epoch 20/25\n",
            "2660/2660 [==============================] - 18s 7ms/step - loss: 40.2916 - root_mean_squared_error: 6.3476 - val_loss: 36.4280 - val_root_mean_squared_error: 6.0356\n",
            "Epoch 21/25\n",
            "2660/2660 [==============================] - 18s 7ms/step - loss: 40.2756 - root_mean_squared_error: 6.3463 - val_loss: 37.4747 - val_root_mean_squared_error: 6.1217\n",
            "Epoch 22/25\n",
            "2660/2660 [==============================] - 19s 7ms/step - loss: 39.9837 - root_mean_squared_error: 6.3233 - val_loss: 36.7859 - val_root_mean_squared_error: 6.0651\n",
            "Epoch 23/25\n",
            "2660/2660 [==============================] - 18s 7ms/step - loss: 39.7365 - root_mean_squared_error: 6.3037 - val_loss: 35.6252 - val_root_mean_squared_error: 5.9687\n",
            "Epoch 24/25\n",
            "2660/2660 [==============================] - 18s 7ms/step - loss: 39.4020 - root_mean_squared_error: 6.2771 - val_loss: 35.9144 - val_root_mean_squared_error: 5.9929\n",
            "Epoch 25/25\n",
            "2660/2660 [==============================] - 18s 7ms/step - loss: 40.0308 - root_mean_squared_error: 6.3270 - val_loss: 36.1816 - val_root_mean_squared_error: 6.0151\n"
          ]
        }
      ],
      "source": [
        "history5= lstmModel(model, X_train, X_valid, y_train, y_valid)"
      ]
    },
    {
      "cell_type": "code",
      "source": [
        "report(history5,epoch =25)"
      ],
      "metadata": {
        "colab": {
          "base_uri": "https://localhost:8080/",
          "height": 490
        },
        "id": "wjMFVjGqPfyH",
        "outputId": "ecf0d4bb-6f05-4ca8-b6fd-4a0c7a9bc82d"
      },
      "execution_count": null,
      "outputs": [
        {
          "output_type": "display_data",
          "data": {
            "text/plain": [
              "<Figure size 640x480 with 1 Axes>"
            ],
            "image/png": "[encoded data removed]"
          },
          "metadata": {}
        },
        {
          "output_type": "stream",
          "name": "stdout",
          "text": [
            "\n"
          ]
        }
      ]
    },
    {
      "cell_type": "code",
      "source": [
        "y_pred = model.predict(X_test)\n",
        "rmse = keras.metrics.mean_squared_error(y_test, y_pred)\n",
        "print(rmse)\n",
        "#mse = keras.metrics.mean_squared_error(y_test, y_pred , squared=False)\n",
        "#print(\"RMSE:\", rmse = keras.metrics.mean_squared_error(y_test, y_pred , squared=False))"
      ],
      "metadata": {
        "colab": {
          "base_uri": "https://localhost:8080/"
        },
        "id": "e8iXn_kdRT1a",
        "outputId": "c27d4562-0f86-41fa-83d0-507afe5bba9f"
      },
      "execution_count": null,
      "outputs": [
        {
          "output_type": "stream",
          "name": "stdout",
          "text": [
            "370/370 [==============================] - 1s 2ms/step\n",
            "tf.Tensor([78.76346   28.597427  23.774998  ... 81.36405   40.948593   3.1527705], shape=(11819,), dtype=float32)\n"
          ]
        }
      ]
    },
    {
      "cell_type": "code",
      "source": [
        "history10 = lstmModel(model10, X_train10, X_valid10, y_train10, y_valid10)"
      ],
      "metadata": {
        "colab": {
          "base_uri": "https://localhost:8080/"
        },
        "id": "VwEswhbXTCjQ",
        "outputId": "38eb086b-e89f-4983-acbc-066cc365efa0"
      },
      "execution_count": null,
      "outputs": [
        {
          "output_type": "stream",
          "name": "stdout",
          "text": [
            "Epoch 1/25\n",
            "2635/2635 [==============================] - 23s 7ms/step - loss: 2557.5828 - root_mean_squared_error: 50.5725 - val_loss: 115.0032 - val_root_mean_squared_error: 10.7240\n",
            "Epoch 2/25\n",
            "2635/2635 [==============================] - 18s 7ms/step - loss: 124.2337 - root_mean_squared_error: 11.1460 - val_loss: 116.7289 - val_root_mean_squared_error: 10.8041\n",
            "Epoch 3/25\n",
            "2635/2635 [==============================] - 19s 7ms/step - loss: 121.4571 - root_mean_squared_error: 11.0208 - val_loss: 112.5325 - val_root_mean_squared_error: 10.6081\n",
            "Epoch 4/25\n",
            "2635/2635 [==============================] - 19s 7ms/step - loss: 121.7692 - root_mean_squared_error: 11.0349 - val_loss: 121.5209 - val_root_mean_squared_error: 11.0237\n",
            "Epoch 5/25\n",
            "2635/2635 [==============================] - 19s 7ms/step - loss: 119.4548 - root_mean_squared_error: 10.9295 - val_loss: 106.8302 - val_root_mean_squared_error: 10.3359\n",
            "Epoch 6/25\n",
            "2635/2635 [==============================] - 18s 7ms/step - loss: 118.9122 - root_mean_squared_error: 10.9047 - val_loss: 110.9475 - val_root_mean_squared_error: 10.5332\n",
            "Epoch 7/25\n",
            "2635/2635 [==============================] - 18s 7ms/step - loss: 118.7480 - root_mean_squared_error: 10.8972 - val_loss: 107.7623 - val_root_mean_squared_error: 10.3809\n",
            "Epoch 8/25\n",
            "2635/2635 [==============================] - 18s 7ms/step - loss: 117.4939 - root_mean_squared_error: 10.8395 - val_loss: 108.9844 - val_root_mean_squared_error: 10.4396\n",
            "Epoch 9/25\n",
            "2635/2635 [==============================] - 18s 7ms/step - loss: 116.9526 - root_mean_squared_error: 10.8145 - val_loss: 110.4691 - val_root_mean_squared_error: 10.5104\n",
            "Epoch 10/25\n",
            "2635/2635 [==============================] - 18s 7ms/step - loss: 116.8652 - root_mean_squared_error: 10.8104 - val_loss: 104.3176 - val_root_mean_squared_error: 10.2136\n",
            "Epoch 11/25\n",
            "2635/2635 [==============================] - 19s 7ms/step - loss: 116.0643 - root_mean_squared_error: 10.7733 - val_loss: 117.3603 - val_root_mean_squared_error: 10.8333\n",
            "Epoch 12/25\n",
            "2635/2635 [==============================] - 18s 7ms/step - loss: 116.0416 - root_mean_squared_error: 10.7723 - val_loss: 106.8614 - val_root_mean_squared_error: 10.3374\n",
            "Epoch 13/25\n",
            "2635/2635 [==============================] - 18s 7ms/step - loss: 114.8963 - root_mean_squared_error: 10.7190 - val_loss: 112.1570 - val_root_mean_squared_error: 10.5904\n",
            "Epoch 14/25\n",
            "2635/2635 [==============================] - 18s 7ms/step - loss: 115.7857 - root_mean_squared_error: 10.7604 - val_loss: 105.7431 - val_root_mean_squared_error: 10.2831\n",
            "Epoch 15/25\n",
            "2635/2635 [==============================] - 18s 7ms/step - loss: 116.5073 - root_mean_squared_error: 10.7939 - val_loss: 107.7772 - val_root_mean_squared_error: 10.3816\n",
            "Epoch 16/25\n",
            "2635/2635 [==============================] - 18s 7ms/step - loss: 114.1140 - root_mean_squared_error: 10.6824 - val_loss: 127.2281 - val_root_mean_squared_error: 11.2795\n",
            "Epoch 17/25\n",
            "2635/2635 [==============================] - 18s 7ms/step - loss: 114.8793 - root_mean_squared_error: 10.7182 - val_loss: 114.2053 - val_root_mean_squared_error: 10.6867\n",
            "Epoch 18/25\n",
            "2635/2635 [==============================] - 18s 7ms/step - loss: 114.7593 - root_mean_squared_error: 10.7126 - val_loss: 105.5239 - val_root_mean_squared_error: 10.2725\n",
            "Epoch 19/25\n",
            "2635/2635 [==============================] - 21s 8ms/step - loss: 113.6779 - root_mean_squared_error: 10.6620 - val_loss: 105.8354 - val_root_mean_squared_error: 10.2876\n",
            "Epoch 20/25\n",
            "2635/2635 [==============================] - 19s 7ms/step - loss: 114.2403 - root_mean_squared_error: 10.6883 - val_loss: 106.6249 - val_root_mean_squared_error: 10.3259\n",
            "Epoch 21/25\n",
            "2635/2635 [==============================] - 19s 7ms/step - loss: 114.1875 - root_mean_squared_error: 10.6859 - val_loss: 139.1209 - val_root_mean_squared_error: 11.7950\n",
            "Epoch 22/25\n",
            "2635/2635 [==============================] - 18s 7ms/step - loss: 113.3404 - root_mean_squared_error: 10.6461 - val_loss: 113.6327 - val_root_mean_squared_error: 10.6599\n",
            "Epoch 23/25\n",
            "2635/2635 [==============================] - 18s 7ms/step - loss: 113.6883 - root_mean_squared_error: 10.6625 - val_loss: 111.3156 - val_root_mean_squared_error: 10.5506\n",
            "Epoch 24/25\n",
            "2635/2635 [==============================] - 18s 7ms/step - loss: 113.4860 - root_mean_squared_error: 10.6530 - val_loss: 109.9763 - val_root_mean_squared_error: 10.4870\n",
            "Epoch 25/25\n",
            "2635/2635 [==============================] - 18s 7ms/step - loss: 112.5446 - root_mean_squared_error: 10.6087 - val_loss: 103.9407 - val_root_mean_squared_error: 10.1951\n"
          ]
        }
      ]
    },
    {
      "cell_type": "code",
      "source": [
        "report(history10,epoch =25)"
      ],
      "metadata": {
        "colab": {
          "base_uri": "https://localhost:8080/",
          "height": 490
        },
        "id": "TsmE_CZwcWyY",
        "outputId": "3d88b4de-2b5f-4167-830c-67a474c34af2"
      },
      "execution_count": null,
      "outputs": [
        {
          "output_type": "display_data",
          "data": {
            "text/plain": [
              "<Figure size 640x480 with 1 Axes>"
            ],
            "image/png": "[encoded data removed]"
          },
          "metadata": {}
        },
        {
          "output_type": "stream",
          "name": "stdout",
          "text": [
            "\n"
          ]
        }
      ]
    },
    {
      "cell_type": "code",
      "source": [
        "y_pred10 = model10.predict(X_test10)\n",
        "rmse10 = keras.metrics.mean_squared_error(y_test10, y_pred10)\n",
        "print(rmse10)"
      ],
      "metadata": {
        "colab": {
          "base_uri": "https://localhost:8080/"
        },
        "id": "bHQUgDFyh0j6",
        "outputId": "e09faa6b-419e-41a1-c742-a392cbc1ed2a"
      },
      "execution_count": null,
      "outputs": [
        {
          "output_type": "stream",
          "name": "stdout",
          "text": [
            "366/366 [==============================] - 1s 2ms/step\n",
            "tf.Tensor(\n",
            "[ 12.285594  463.31287    37.898006  ...   7.6043515   3.2168713\n",
            "   3.9591503], shape=(11710,), dtype=float32)\n"
          ]
        }
      ]
    },
    {
      "cell_type": "code",
      "source": [
        "history15= lstmModel(model15, X_train15, X_valid15, y_train15, y_valid15)"
      ],
      "metadata": {
        "colab": {
          "base_uri": "https://localhost:8080/"
        },
        "id": "krszX_yyibpl",
        "outputId": "d9a2250f-7c38-433b-fe46-afceb681bbc4"
      },
      "execution_count": null,
      "outputs": [
        {
          "output_type": "stream",
          "name": "stdout",
          "text": [
            "Epoch 1/25\n",
            "2615/2615 [==============================] - 21s 7ms/step - loss: 3097.5544 - root_mean_squared_error: 55.6557 - val_loss: 228.2167 - val_root_mean_squared_error: 15.1068\n",
            "Epoch 2/25\n",
            "2615/2615 [==============================] - 16s 6ms/step - loss: 229.3838 - root_mean_squared_error: 15.1454 - val_loss: 227.0406 - val_root_mean_squared_error: 15.0679\n",
            "Epoch 3/25\n",
            "2615/2615 [==============================] - 16s 6ms/step - loss: 224.3773 - root_mean_squared_error: 14.9792 - val_loss: 271.9154 - val_root_mean_squared_error: 16.4899\n",
            "Epoch 4/25\n",
            "2615/2615 [==============================] - 19s 7ms/step - loss: 222.1929 - root_mean_squared_error: 14.9061 - val_loss: 228.7843 - val_root_mean_squared_error: 15.1256\n",
            "Epoch 5/25\n",
            "2615/2615 [==============================] - 18s 7ms/step - loss: 220.5172 - root_mean_squared_error: 14.8498 - val_loss: 216.3663 - val_root_mean_squared_error: 14.7094\n",
            "Epoch 6/25\n",
            "2615/2615 [==============================] - 17s 7ms/step - loss: 220.2644 - root_mean_squared_error: 14.8413 - val_loss: 215.2848 - val_root_mean_squared_error: 14.6726\n",
            "Epoch 7/25\n",
            "2615/2615 [==============================] - 17s 6ms/step - loss: 218.3663 - root_mean_squared_error: 14.7772 - val_loss: 237.2489 - val_root_mean_squared_error: 15.4029\n",
            "Epoch 8/25\n",
            "2615/2615 [==============================] - 17s 6ms/step - loss: 219.2417 - root_mean_squared_error: 14.8068 - val_loss: 226.0818 - val_root_mean_squared_error: 15.0360\n",
            "Epoch 9/25\n",
            "2615/2615 [==============================] - 17s 6ms/step - loss: 216.7555 - root_mean_squared_error: 14.7226 - val_loss: 214.4854 - val_root_mean_squared_error: 14.6453\n",
            "Epoch 10/25\n",
            "2615/2615 [==============================] - 17s 6ms/step - loss: 217.4752 - root_mean_squared_error: 14.7470 - val_loss: 214.0345 - val_root_mean_squared_error: 14.6299\n",
            "Epoch 11/25\n",
            "2615/2615 [==============================] - 17s 6ms/step - loss: 216.2877 - root_mean_squared_error: 14.7067 - val_loss: 225.1158 - val_root_mean_squared_error: 15.0039\n",
            "Epoch 12/25\n",
            "2615/2615 [==============================] - 17s 7ms/step - loss: 216.6708 - root_mean_squared_error: 14.7197 - val_loss: 226.8638 - val_root_mean_squared_error: 15.0620\n",
            "Epoch 13/25\n",
            "2615/2615 [==============================] - 17s 6ms/step - loss: 215.1014 - root_mean_squared_error: 14.6663 - val_loss: 213.7950 - val_root_mean_squared_error: 14.6217\n",
            "Epoch 14/25\n",
            "2615/2615 [==============================] - 17s 7ms/step - loss: 215.2752 - root_mean_squared_error: 14.6723 - val_loss: 216.3409 - val_root_mean_squared_error: 14.7085\n",
            "Epoch 15/25\n",
            "2615/2615 [==============================] - 18s 7ms/step - loss: 214.1261 - root_mean_squared_error: 14.6330 - val_loss: 225.1799 - val_root_mean_squared_error: 15.0060\n",
            "Epoch 16/25\n",
            "2615/2615 [==============================] - 16s 6ms/step - loss: 215.3864 - root_mean_squared_error: 14.6760 - val_loss: 215.4395 - val_root_mean_squared_error: 14.6779\n",
            "Epoch 17/25\n",
            "2615/2615 [==============================] - 17s 6ms/step - loss: 215.7032 - root_mean_squared_error: 14.6868 - val_loss: 226.0807 - val_root_mean_squared_error: 15.0360\n",
            "Epoch 18/25\n",
            "2615/2615 [==============================] - 16s 6ms/step - loss: 215.2778 - root_mean_squared_error: 14.6723 - val_loss: 212.8662 - val_root_mean_squared_error: 14.5899\n",
            "Epoch 19/25\n",
            "2615/2615 [==============================] - 17s 6ms/step - loss: 213.2149 - root_mean_squared_error: 14.6019 - val_loss: 213.1727 - val_root_mean_squared_error: 14.6004\n",
            "Epoch 20/25\n",
            "2615/2615 [==============================] - 16s 6ms/step - loss: 214.9624 - root_mean_squared_error: 14.6616 - val_loss: 222.0779 - val_root_mean_squared_error: 14.9023\n",
            "Epoch 21/25\n",
            "2615/2615 [==============================] - 17s 6ms/step - loss: 212.3113 - root_mean_squared_error: 14.5709 - val_loss: 211.4328 - val_root_mean_squared_error: 14.5407\n",
            "Epoch 22/25\n",
            "2615/2615 [==============================] - 17s 6ms/step - loss: 213.4569 - root_mean_squared_error: 14.6102 - val_loss: 211.6262 - val_root_mean_squared_error: 14.5474\n",
            "Epoch 23/25\n",
            "2615/2615 [==============================] - 17s 6ms/step - loss: 213.0916 - root_mean_squared_error: 14.5977 - val_loss: 233.8902 - val_root_mean_squared_error: 15.2935\n",
            "Epoch 24/25\n",
            "2615/2615 [==============================] - 17s 6ms/step - loss: 213.0333 - root_mean_squared_error: 14.5957 - val_loss: 215.7546 - val_root_mean_squared_error: 14.6886\n",
            "Epoch 25/25\n",
            "2615/2615 [==============================] - 17s 7ms/step - loss: 212.6969 - root_mean_squared_error: 14.5841 - val_loss: 233.8348 - val_root_mean_squared_error: 15.2917\n"
          ]
        }
      ]
    },
    {
      "cell_type": "code",
      "source": [
        "report(history15,epoch =25)"
      ],
      "metadata": {
        "id": "lqNPNE_sqdsm",
        "outputId": "fc590579-987f-4fb3-9d20-6d622f42bea5",
        "colab": {
          "base_uri": "https://localhost:8080/",
          "height": 490
        }
      },
      "execution_count": null,
      "outputs": [
        {
          "output_type": "display_data",
          "data": {
            "text/plain": [
              "<Figure size 640x480 with 1 Axes>"
            ],
            "image/png": "[encoded data removed]"
          },
          "metadata": {}
        },
        {
          "output_type": "stream",
          "name": "stdout",
          "text": [
            "\n"
          ]
        }
      ]
    },
    {
      "cell_type": "code",
      "source": [
        "y_pred15 = model10.predict(X_test15)\n",
        "rmse15 = keras.metrics.mean_squared_error(y_test15, y_pred15)\n",
        "print(rmse15)"
      ],
      "metadata": {
        "colab": {
          "base_uri": "https://localhost:8080/"
        },
        "id": "eeAxH5uHiq4V",
        "outputId": "1ad8cf20-744e-4888-84c3-02725625b3df"
      },
      "execution_count": null,
      "outputs": [
        {
          "output_type": "stream",
          "name": "stdout",
          "text": [
            "364/364 [==============================] - 1s 3ms/step\n",
            "tf.Tensor([241.13016   19.505304 267.67508  ... 236.88449    8.893839 265.23328 ], shape=(11619,), dtype=float32)\n"
          ]
        }
      ]
    },
    {
      "cell_type": "code",
      "source": [],
      "metadata": {
        "id": "A0dkQpUHqcHl"
      },
      "execution_count": null,
      "outputs": []
    }
  ],
  "metadata": {
    "colab": {
      "provenance": [],
      "authorship_tag": "ABX9TyO5jI2sIy22hpeIIlLqFC20",
      "include_colab_link": true
    },
    "kernelspec": {
      "display_name": "Python 3",
      "name": "python3"
    },
    "language_info": {
      "name": "python"
    }
  },
  "nbformat": 4,
  "nbformat_minor": 0
}